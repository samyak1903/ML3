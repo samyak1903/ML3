{
 "cells": [
  {
   "cell_type": "markdown",
   "metadata": {},
   "source": [
    "# Q.1 - Consider the below given probabilities: \n",
    "P(A) = 11 / 36\n",
    "P(B) = 6 / 36\n",
    "P(A|B) = 2 / 36\n",
    "Write a function in Python which takes 3 probabilities as argument and outputs the Conditional probability P(B|A)."
   ]
  },
  {
   "cell_type": "code",
   "execution_count": 1,
   "metadata": {
    "collapsed": false
   },
   "outputs": [
    {
     "name": "stdout",
     "output_type": "stream",
     "text": [
      "Enter probability P(A) in the form x/y: 11/36\n",
      "Enter probability P(B) in the form x/y: 6/36\n",
      "Enter probability P(A|B) in the form x/y: 2/36\n",
      "P(A) = 0.3055555555555556\n",
      "P(B) = 0.16666666666666666\n",
      "P(A|B) = 0.05555555555555555\n",
      "P(B|A) = 0.0303030303030303\n"
     ]
    }
   ],
   "source": [
    "def convertProbabilityInput(inp):\n",
    "    p=inp.split('/')\n",
    "    for i in range(len(p)):\n",
    "        p[i]=float(p[i])\n",
    "    return(p[0]/p[1])\n",
    "\n",
    "def ConditionalProb(p1,p2,p3):\n",
    "    return ((p3*p2)/p1)\n",
    "    \n",
    "p1=convertProbabilityInput(input(\"Enter probability P(A) in the form x/y: \"))\n",
    "p2=convertProbabilityInput(input(\"Enter probability P(B) in the form x/y: \"))\n",
    "p3=convertProbabilityInput(input(\"Enter probability P(A|B) in the form x/y: \"))\n",
    "\n",
    "print(\"P(A) = {}\\nP(B) = {}\\nP(A|B) = {}\\nP(B|A) = {}\".format(p1,p2,p3,ConditionalProb(p1,p2,p3)))"
   ]
  },
  {
   "cell_type": "markdown",
   "metadata": {},
   "source": [
    "# Q.2 - Bag I contains 4 white and 6 black balls while another Bag II contains 4 white and 3 black balls. One ball is drawn at random from one of the bags and it is found to be black. Find the probability that it was drawn from Bag I."
   ]
  },
  {
   "cell_type": "code",
   "execution_count": 3,
   "metadata": {
    "collapsed": false
   },
   "outputs": [
    {
     "name": "stdout",
     "output_type": "stream",
     "text": [
      "Enter number of white balls in Bag I: 4\n",
      "Enter number of black balls in Bag I: 6\n",
      "Enter number of white balls in Bag II: 4\n",
      "Enter number of black balls in Bag II: 3\n",
      "If, one ball is drawn at random from one of the bags and it is found to be black.\n",
      " \n",
      "The probability that the ball was drawn from Bag I = 0.5833333333333334\n"
     ]
    }
   ],
   "source": [
    "b1w=int(input(\"Enter number of white balls in Bag I: \"))\n",
    "b1b=int(input(\"Enter number of black balls in Bag I: \"))\n",
    "b2w=int(input(\"Enter number of white balls in Bag II: \"))\n",
    "b2b=int(input(\"Enter number of black balls in Bag II: \"))\n",
    "\n",
    "# P(B1/B)=(P(B/B1)*P(B1))/((P(B/B1)*P(B1))+(P(B/B2)*P(B2)))\n",
    "\n",
    "\n",
    "\n",
    "p_black_bag1=b1b/(b1w+b1b)\n",
    "p_bag1=0.5\n",
    "p_black_bag2=b2b/(b2w+b2b)\n",
    "p_bag2=0.5\n",
    "\n",
    "p_bag1_black=(p_bag1*p_black_bag1)/((p_bag1*p_black_bag1)+(p_black_bag2*p_bag2))\n",
    "\n",
    "print(\"If, one ball is drawn at random from one of the bags and it is found to be black.\\n \")\n",
    "print(\"The probability that the ball was drawn from Bag I = {}\".format(p_bag1_black))"
   ]
  },
  {
   "cell_type": "markdown",
   "metadata": {},
   "source": [
    "# Q.3 - A man is known to speak truth 2 out of 3 times. He throws a die and reports that number obtained is a four. Find the probability that the number obtained is actually a four."
   ]
  },
  {
   "cell_type": "code",
   "execution_count": null,
   "metadata": {
    "collapsed": false
   },
   "outputs": [],
   "source": [
    "def convertProbabilityInput(inp):\n",
    "    p=inp.split('/')\n",
    "    for i in range(len(p)):\n",
    "        p[i]=float(p[i])\n",
    "    return(p[0]/p[1])\n",
    "\n",
    "p_s1=convertProbabilityInput(input(\"Enter how many times the man is know to speak the truth? \\nX out of Y times\\nin the form X/Y: \"))\n",
    "p_s2=1-p_s1\n",
    "p_four=1/6\n",
    "p_notfour=1-p_four\n",
    "\n",
    "'''\n",
    "S1: Man Speaks the truth\n",
    "S2: Man lies\n",
    "E: Throwing a die and getting 4\n",
    "P(S1/E)=(P(E/S1)*P(S1))/((P(E/S1)*P(S1))+(P(E/S2)*P(S2)))\n",
    "'''\n",
    "\n",
    "print(\"Probability of man speaking the truth = {}\".format(p_s1))\n",
    "print(\"Probability of man lying = {}\".format(p_s2))\n",
    "print(\"Probability of Throwing a die getting 4 while man speaks truth = {}\".format(p_four))\n",
    "print(\"Probability of Throwing a die getting 4 while man lies = {}\".format(p_s1))\n",
    "\n",
    "p_four_s1=(p_s1*p_four)/((p_four*p_s1)+(p_notfour*p_s2))\n",
    "\n",
    "print(\"\\nIf the man throws a die and reports that number obtained is a four.\")\n",
    "print(\"Probability that Number obtained is actually a four = {}\".format(p_four_s1))"
   ]
  },
  {
   "cell_type": "code",
   "execution_count": null,
   "metadata": {
    "collapsed": true
   },
   "outputs": [],
   "source": []
  }
 ],
 "metadata": {
  "kernelspec": {
   "display_name": "Python 3",
   "language": "python",
   "name": "python3"
  },
  "language_info": {
   "codemirror_mode": {
    "name": "ipython",
    "version": 3
   },
   "file_extension": ".py",
   "mimetype": "text/x-python",
   "name": "python",
   "nbconvert_exporter": "python",
   "pygments_lexer": "ipython3",
   "version": "3.6.5"
  }
 },
 "nbformat": 4,
 "nbformat_minor": 0
}
